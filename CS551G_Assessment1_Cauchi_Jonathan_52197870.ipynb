{
  "nbformat": 4,
  "nbformat_minor": 0,
  "metadata": {
    "accelerator": "GPU",
    "colab": {
      "name": "CS551G_Assessment1_Cauchi_Jonathan_52197870.ipynb",
      "provenance": [],
      "collapsed_sections": [],
      "toc_visible": true
    },
    "kernelspec": {
      "display_name": "Python 3",
      "name": "python3"
    }
  },
  "cells": [
    {
      "cell_type": "markdown",
      "metadata": {
        "id": "XWwGy2eYcnlj"
      },
      "source": [
        "# **Create Synthetic Covid-19 X-Ray Images with CGAN**"
      ]
    },
    {
      "cell_type": "markdown",
      "metadata": {
        "id": "w0bHYgVxZLxR"
      },
      "source": [
        "### Jonathan Cauchi\n",
        "### ID: 52197870 \n",
        "\n",
        "\n"
      ]
    },
    {
      "cell_type": "code",
      "metadata": {
        "colab": {
          "base_uri": "https://localhost:8080/"
        },
        "id": "_An-ZovYWPGj",
        "outputId": "85948e52-49cb-49d6-9b57-1dd6aaa5a4dd"
      },
      "source": [
        "from PIL import Image, ImageOps\n",
        "import os, os.path\n",
        "import random\n",
        "import matplotlib.pyplot as plt\n",
        "import cv2\n",
        "from tensorflow import keras\n",
        "from tensorflow.keras.models import Sequential, Model\n",
        "from sklearn.model_selection import train_test_split\n",
        "from tensorflow.python.keras.preprocessing.image import ImageDataGenerator\n",
        "from tensorflow.python.keras.preprocessing.image import load_img, img_to_array\n",
        "import numpy as np\n",
        "import pandas as pd\n",
        "import tensorflow as tf\n",
        "from tensorflow.keras.layers import Input, Dense, LeakyReLU, Dropout, BatchNormalization\n",
        "from tensorflow.keras.models import Model\n",
        "from tensorflow.keras.optimizers import SGD, Adam\n",
        "from keras.layers import Conv2D, MaxPooling2D, Flatten, Dense, Dropout, InputLayer\n",
        "from keras.models import Sequential\n",
        "from keras import optimizers\n",
        "from keras.applications.resnet50 import ResNet50\n",
        "import matplotlib.image as mpimg\n",
        "%matplotlib inline\n",
        "\n",
        "#unzip\n",
        "!unzip /content/CS551G_DMV_Assessment_1_Dataset.zip"
      ],
      "execution_count": null,
      "outputs": [
        {
          "output_type": "stream",
          "text": [
            "Archive:  /content/CS551G_DMV_Assessment_1_Dataset.zip\n",
            "   creating: DMV_Assess_1_Covid-19_Dataset/\n",
            "   creating: DMV_Assess_1_Covid-19_Dataset/Covid-19/\n",
            "  inflating: DMV_Assess_1_Covid-19_Dataset/Covid-19/03BF7561-A9BA-4C3C-B8A0-D3E585F73F3C.jpeg  \n",
            "  inflating: DMV_Assess_1_Covid-19_Dataset/Covid-19/1-s2.0-S1684118220300608-main.pdf-001.jpg  \n",
            "  inflating: DMV_Assess_1_Covid-19_Dataset/Covid-19/1-s2.0-S1684118220300608-main.pdf-002.jpg  \n",
            "  inflating: DMV_Assess_1_Covid-19_Dataset/Covid-19/1-s2.0-S1684118220300682-main.pdf-002-a1.png  \n",
            "  inflating: DMV_Assess_1_Covid-19_Dataset/Covid-19/1-s2.0-S1684118220300682-main.pdf-002-a2.png  \n",
            "  inflating: DMV_Assess_1_Covid-19_Dataset/Covid-19/1-s2.0-S1684118220300682-main.pdf-003-b1.png  \n",
            "  inflating: DMV_Assess_1_Covid-19_Dataset/Covid-19/1-s2.0-S1684118220300682-main.pdf-003-b2.png  \n",
            "  inflating: DMV_Assess_1_Covid-19_Dataset/Covid-19/1.CXRCTThoraximagesofCOVID-19fromSingapore.pdf-000-fig1a.png  \n",
            "  inflating: DMV_Assess_1_Covid-19_Dataset/Covid-19/1.CXRCTThoraximagesofCOVID-19fromSingapore.pdf-000-fig1b.png  \n",
            "  inflating: DMV_Assess_1_Covid-19_Dataset/Covid-19/1.CXRCTThoraximagesofCOVID-19fromSingapore.pdf-001-fig2a.png  \n",
            "  inflating: DMV_Assess_1_Covid-19_Dataset/Covid-19/1.CXRCTThoraximagesofCOVID-19fromSingapore.pdf-001-fig2b.png  \n",
            "  inflating: DMV_Assess_1_Covid-19_Dataset/Covid-19/1.CXRCTThoraximagesofCOVID-19fromSingapore.pdf-002-fig3a.png  \n",
            "  inflating: DMV_Assess_1_Covid-19_Dataset/Covid-19/1.CXRCTThoraximagesofCOVID-19fromSingapore.pdf-002-fig3b.png  \n",
            "  inflating: DMV_Assess_1_Covid-19_Dataset/Covid-19/1.CXRCTThoraximagesofCOVID-19fromSingapore.pdf-003-fi - Copy (2).png  \n",
            "  inflating: DMV_Assess_1_Covid-19_Dataset/Covid-19/1.CXRCTThoraximagesofCOVID-19fromSingapore.pdf-003-fi - Copy.png  \n",
            "  inflating: DMV_Assess_1_Covid-19_Dataset/Covid-19/1.CXRCTThoraximagesofCOVID-19fromSingapore.pdf-003-fig4a.png  \n",
            "  inflating: DMV_Assess_1_Covid-19_Dataset/Covid-19/1.CXRCTThoraximagesofCOVID-19fromSingapore.pdf-003-fig4b.png  \n",
            "  inflating: DMV_Assess_1_Covid-19_Dataset/Covid-19/16654_1_1.png  \n",
            "  inflating: DMV_Assess_1_Covid-19_Dataset/Covid-19/16654_2_1.jpg  \n",
            "  inflating: DMV_Assess_1_Covid-19_Dataset/Covid-19/16654_4_1.jpg  \n",
            "  inflating: DMV_Assess_1_Covid-19_Dataset/Covid-19/16660_1_1.jpg  \n",
            "  inflating: DMV_Assess_1_Covid-19_Dataset/Covid-19/16660_2_1.jpg  \n",
            "  inflating: DMV_Assess_1_Covid-19_Dataset/Covid-19/16660_3_1.jpg  \n",
            "  inflating: DMV_Assess_1_Covid-19_Dataset/Covid-19/16660_4_1.jpg  \n",
            "  inflating: DMV_Assess_1_Covid-19_Dataset/Covid-19/16663_1_1.jpg  \n",
            "  inflating: DMV_Assess_1_Covid-19_Dataset/Covid-19/16664_1_1.jpg  \n",
            "  inflating: DMV_Assess_1_Covid-19_Dataset/Covid-19/16669_1_1.jpeg  \n",
            "  inflating: DMV_Assess_1_Covid-19_Dataset/Covid-19/16669_3_1.jpeg  \n",
            "  inflating: DMV_Assess_1_Covid-19_Dataset/Covid-19/16672_1_1.jpg  \n",
            "  inflating: DMV_Assess_1_Covid-19_Dataset/Covid-19/16708_1_1.jpg  \n",
            "  inflating: DMV_Assess_1_Covid-19_Dataset/Covid-19/16708_4_1.jpg  \n",
            "  inflating: DMV_Assess_1_Covid-19_Dataset/Covid-19/16708_5_1.jpg  \n",
            "  inflating: DMV_Assess_1_Covid-19_Dataset/Covid-19/2-chest-filmc - Copy.jpg  \n",
            "  inflating: DMV_Assess_1_Covid-19_Dataset/Covid-19/2-chest-filmc.jpg  \n",
            "  inflating: DMV_Assess_1_Covid-19_Dataset/Covid-19/2966893D-5DDF-4B68-9E2B-4979D5956C8E.jpeg  \n",
            "  inflating: DMV_Assess_1_Covid-19_Dataset/Covid-19/353889E0-A1E8-4F9E-A0B8-F24F36BCFBFB.jpeg  \n",
            "  inflating: DMV_Assess_1_Covid-19_Dataset/Covid-19/4-x-day1.jpg  \n",
            "  inflating: DMV_Assess_1_Covid-19_Dataset/Covid-19/41591_2020_819_Fig1_HTML.webp-day10.png  \n",
            "  inflating: DMV_Assess_1_Covid-19_Dataset/Covid-19/41591_2020_819_Fig1_HTML.webp-day5.png  \n",
            "  inflating: DMV_Assess_1_Covid-19_Dataset/Covid-19/4e43e48d52c9e2d4c6c1fb9bc1544f_jumbo.jpeg  \n",
            "  inflating: DMV_Assess_1_Covid-19_Dataset/Covid-19/53EC07C9-5CC6-4BE4-9B6F-D7B0D72AAA7E.jpeg  \n",
            "  inflating: DMV_Assess_1_Covid-19_Dataset/Covid-19/58cb9263f16e94305c730685358e4e_jumbo.jpeg  \n",
            "  inflating: DMV_Assess_1_Covid-19_Dataset/Covid-19/6b3bdbc31f65230b8cdcc3cef5f8ba8a-40ac-0.jpg  \n",
            "  inflating: DMV_Assess_1_Covid-19_Dataset/Covid-19/6b44464d-73a7-4cf3-bbb6-ffe7168300e3.annot.original.jpeg  \n",
            "  inflating: DMV_Assess_1_Covid-19_Dataset/Covid-19/6C94A287-C059-46A0-8600-AFB95F4727B7.jpeg  \n",
            "  inflating: DMV_Assess_1_Covid-19_Dataset/Covid-19/7-fatal-covid19.jpg  \n",
            "  inflating: DMV_Assess_1_Covid-19_Dataset/Covid-19/88de9d8c39e946abd495b37cd07d89e5-2ee6-0.jpg  \n",
            "  inflating: DMV_Assess_1_Covid-19_Dataset/Covid-19/88de9d8c39e946abd495b37cd07d89e5-6531-0.jpg  \n",
            "  inflating: DMV_Assess_1_Covid-19_Dataset/Covid-19/9fdd3c3032296fd04d2cad5d9070d4_jumbo.jpeg  \n",
            "  inflating: DMV_Assess_1_Covid-19_Dataset/Covid-19/ae6c954c0039de4b5edee53865ffee43-e6c8-0.jpg  \n",
            "  inflating: DMV_Assess_1_Covid-19_Dataset/Covid-19/AR-1.jpg  \n",
            "  inflating: DMV_Assess_1_Covid-19_Dataset/Covid-19/AR-2.jpg  \n",
            "  inflating: DMV_Assess_1_Covid-19_Dataset/Covid-19/B2D20576-00B7-4519-A415-72DE29C90C34.jpeg  \n",
            "  inflating: DMV_Assess_1_Covid-19_Dataset/Covid-19/ciaa199.pdf-001-a - Copy.png  \n",
            "  inflating: DMV_Assess_1_Covid-19_Dataset/Covid-19/ciaa199.pdf-001-a.png  \n",
            "  inflating: DMV_Assess_1_Covid-19_Dataset/Covid-19/ciaa199.pdf-001-b.png  \n",
            "  inflating: DMV_Assess_1_Covid-19_Dataset/Covid-19/ciaa199.pdf-001-c.png  \n",
            "  inflating: DMV_Assess_1_Covid-19_Dataset/Covid-19/covid-19-caso-70-1-PA.jpg  \n",
            "  inflating: DMV_Assess_1_Covid-19_Dataset/Covid-19/covid-19-infection-exclusive-gastrointestinal-symptoms-l.png  \n",
            "  inflating: DMV_Assess_1_Covid-19_Dataset/Covid-19/covid-19-infection-exclusive-gastrointestinal-symptoms-pa.png  \n",
            "  inflating: DMV_Assess_1_Covid-19_Dataset/Covid-19/covid-19-pneumonia-19 - Copy.jpg  \n",
            "  inflating: DMV_Assess_1_Covid-19_Dataset/Covid-19/covid-19-pneumonia-19.jpg  \n",
            "  inflating: DMV_Assess_1_Covid-19_Dataset/Covid-19/covid-19-pneumonia-20-pa-on-admission.jpg  \n",
            "  inflating: DMV_Assess_1_Covid-19_Dataset/Covid-19/covid-19-pneumonia-20.jpg  \n",
            "  inflating: DMV_Assess_1_Covid-19_Dataset/Covid-19/covid-19-pneumonia-22-day1-pa.png  \n",
            "  inflating: DMV_Assess_1_Covid-19_Dataset/Covid-19/covid-19-pneumonia-22-day2-pa.png  \n",
            "  inflating: DMV_Assess_1_Covid-19_Dataset/Covid-19/covid-19-pneumonia-28.png  \n",
            "  inflating: DMV_Assess_1_Covid-19_Dataset/Covid-19/covid-19-pneumonia-30-PA.jpg  \n",
            "  inflating: DMV_Assess_1_Covid-19_Dataset/Covid-19/covid-19-pneumonia-34.png  \n",
            "  inflating: DMV_Assess_1_Covid-19_Dataset/Covid-19/covid-19-pneumonia-35-1.jpg  \n",
            "  inflating: DMV_Assess_1_Covid-19_Dataset/Covid-19/covid-19-pneumonia-35-2.jpg  \n",
            "  inflating: DMV_Assess_1_Covid-19_Dataset/Covid-19/covid-19-pneumonia-38-pa.jpg  \n",
            "  inflating: DMV_Assess_1_Covid-19_Dataset/Covid-19/covid-19-pneumonia-44-day-0.jpeg  \n",
            "  inflating: DMV_Assess_1_Covid-19_Dataset/Covid-19/covid-19-pneumonia-53.jpg  \n",
            "  inflating: DMV_Assess_1_Covid-19_Dataset/Covid-19/covid-19-pneumonia-58-day-10.jpg  \n",
            "  inflating: DMV_Assess_1_Covid-19_Dataset/Covid-19/covid-19-pneumonia-58-day-3.jpg  \n",
            "  inflating: DMV_Assess_1_Covid-19_Dataset/Covid-19/covid-19-pneumonia-58-day-7.jpg  \n",
            "  inflating: DMV_Assess_1_Covid-19_Dataset/Covid-19/covid-19-pneumonia-58-day-9.jpg  \n",
            "  inflating: DMV_Assess_1_Covid-19_Dataset/Covid-19/covid-19-pneumonia-67.jpeg  \n",
            "  inflating: DMV_Assess_1_Covid-19_Dataset/Covid-19/covid-19-pneumonia-8.jpg  \n",
            "  inflating: DMV_Assess_1_Covid-19_Dataset/Covid-19/covid-19-pneumonia-bilateral.jpg  \n",
            "  inflating: DMV_Assess_1_Covid-19_Dataset/Covid-19/covid-19-pneumonia-evolution-over-a-week-1-day0-PA.jpg  \n",
            "  inflating: DMV_Assess_1_Covid-19_Dataset/Covid-19/covid-19-pneumonia-mild.JPG  \n",
            "  inflating: DMV_Assess_1_Covid-19_Dataset/Covid-19/extubation-1.jpg  \n",
            "  inflating: DMV_Assess_1_Covid-19_Dataset/Covid-19/extubation-13.jpg  \n",
            "  inflating: DMV_Assess_1_Covid-19_Dataset/Covid-19/extubation-4.jpg  \n",
            "  inflating: DMV_Assess_1_Covid-19_Dataset/Covid-19/extubation-8.jpg  \n",
            "  inflating: DMV_Assess_1_Covid-19_Dataset/Covid-19/FE9F9A5D-2830-46F9-851B-1FF4534959BE.jpeg  \n",
            "  inflating: DMV_Assess_1_Covid-19_Dataset/Covid-19/fff49165-b22d-4bb4-b9d1-d5d62c52436c.annot.original.png  \n",
            "  inflating: DMV_Assess_1_Covid-19_Dataset/Covid-19/figure1-5e71be566aa8714a04de3386-98-left.jpeg  \n",
            "  inflating: DMV_Assess_1_Covid-19_Dataset/Covid-19/figure1-5e75d0940b71e1b702629659-98-right.jpeg  \n",
            "  inflating: DMV_Assess_1_Covid-19_Dataset/Covid-19/gr1_lrg-a.jpg  \n",
            "  inflating: DMV_Assess_1_Covid-19_Dataset/Covid-19/gr1_lrg-b.jpg  \n",
            "  inflating: DMV_Assess_1_Covid-19_Dataset/Covid-19/kjr-21-e24-g001-l-a.jpg  \n",
            "  inflating: DMV_Assess_1_Covid-19_Dataset/Covid-19/kjr-21-e24-g002-l-a.jpg  \n",
            "  inflating: DMV_Assess_1_Covid-19_Dataset/Covid-19/kjr-21-e24-g003-l-a.jpg  \n",
            "  inflating: DMV_Assess_1_Covid-19_Dataset/Covid-19/kjr-21-e25-g001-l-a.jpg  \n",
            "  inflating: DMV_Assess_1_Covid-19_Dataset/Covid-19/paving.jpg  \n",
            "  inflating: DMV_Assess_1_Covid-19_Dataset/Covid-19/radiol.2020200274.fig3d.png  \n",
            "  inflating: DMV_Assess_1_Covid-19_Dataset/Covid-19/yxppt-2020-02-19_00-51-27_287214-day8.jpg  \n",
            "   creating: DMV_Assess_1_Covid-19_Dataset/Normal/\n",
            "  inflating: DMV_Assess_1_Covid-19_Dataset/Normal/NORMAL2-IM-0874-0001.jpeg  \n",
            "  inflating: DMV_Assess_1_Covid-19_Dataset/Normal/NORMAL2-IM-0876-0001.jpeg  \n",
            "  inflating: DMV_Assess_1_Covid-19_Dataset/Normal/NORMAL2-IM-0877-0001.jpeg  \n",
            "  inflating: DMV_Assess_1_Covid-19_Dataset/Normal/NORMAL2-IM-0879-0001.jpeg  \n",
            "  inflating: DMV_Assess_1_Covid-19_Dataset/Normal/NORMAL2-IM-0882-0001.jpeg  \n",
            "  inflating: DMV_Assess_1_Covid-19_Dataset/Normal/NORMAL2-IM-0885-0001.jpeg  \n",
            "  inflating: DMV_Assess_1_Covid-19_Dataset/Normal/NORMAL2-IM-0887-0001.jpeg  \n",
            "  inflating: DMV_Assess_1_Covid-19_Dataset/Normal/NORMAL2-IM-0890-0001.jpeg  \n",
            "  inflating: DMV_Assess_1_Covid-19_Dataset/Normal/NORMAL2-IM-0893-0001.jpeg  \n",
            "  inflating: DMV_Assess_1_Covid-19_Dataset/Normal/NORMAL2-IM-0894-0001.jpeg  \n",
            "  inflating: DMV_Assess_1_Covid-19_Dataset/Normal/NORMAL2-IM-0895-0001.jpeg  \n",
            "  inflating: DMV_Assess_1_Covid-19_Dataset/Normal/NORMAL2-IM-0896-0001.jpeg  \n",
            "  inflating: DMV_Assess_1_Covid-19_Dataset/Normal/NORMAL2-IM-0897-0001.jpeg  \n",
            "  inflating: DMV_Assess_1_Covid-19_Dataset/Normal/NORMAL2-IM-0898-0001.jpeg  \n",
            "  inflating: DMV_Assess_1_Covid-19_Dataset/Normal/NORMAL2-IM-0899-0001.jpeg  \n",
            "  inflating: DMV_Assess_1_Covid-19_Dataset/Normal/NORMAL2-IM-0900-0001.jpeg  \n",
            "  inflating: DMV_Assess_1_Covid-19_Dataset/Normal/NORMAL2-IM-0903-0001.jpeg  \n",
            "  inflating: DMV_Assess_1_Covid-19_Dataset/Normal/NORMAL2-IM-0904-0001.jpeg  \n",
            "  inflating: DMV_Assess_1_Covid-19_Dataset/Normal/NORMAL2-IM-0906-0001.jpeg  \n",
            "  inflating: DMV_Assess_1_Covid-19_Dataset/Normal/NORMAL2-IM-0908-0001.jpeg  \n",
            "  inflating: DMV_Assess_1_Covid-19_Dataset/Normal/NORMAL2-IM-0909-0001.jpeg  \n",
            "  inflating: DMV_Assess_1_Covid-19_Dataset/Normal/NORMAL2-IM-0910-0001.jpeg  \n",
            "  inflating: DMV_Assess_1_Covid-19_Dataset/Normal/NORMAL2-IM-0911-0001.jpeg  \n",
            "  inflating: DMV_Assess_1_Covid-19_Dataset/Normal/NORMAL2-IM-0912-0001.jpeg  \n",
            "  inflating: DMV_Assess_1_Covid-19_Dataset/Normal/NORMAL2-IM-0913-0001.jpeg  \n",
            "  inflating: DMV_Assess_1_Covid-19_Dataset/Normal/NORMAL2-IM-0914-0001.jpeg  \n",
            "  inflating: DMV_Assess_1_Covid-19_Dataset/Normal/NORMAL2-IM-0915-0001.jpeg  \n",
            "  inflating: DMV_Assess_1_Covid-19_Dataset/Normal/NORMAL2-IM-0917-0001.jpeg  \n",
            "  inflating: DMV_Assess_1_Covid-19_Dataset/Normal/NORMAL2-IM-0918-0001 - Copy.jpeg  \n",
            "  inflating: DMV_Assess_1_Covid-19_Dataset/Normal/NORMAL2-IM-0918-0001.jpeg  \n",
            "  inflating: DMV_Assess_1_Covid-19_Dataset/Normal/NORMAL2-IM-0919-0001.jpeg  \n",
            "  inflating: DMV_Assess_1_Covid-19_Dataset/Normal/NORMAL2-IM-0922-0001.jpeg  \n",
            "  inflating: DMV_Assess_1_Covid-19_Dataset/Normal/NORMAL2-IM-0923-0001 - Copy.jpeg  \n",
            "  inflating: DMV_Assess_1_Covid-19_Dataset/Normal/NORMAL2-IM-0923-0001.jpeg  \n",
            "  inflating: DMV_Assess_1_Covid-19_Dataset/Normal/NORMAL2-IM-0925-0001.jpeg  \n",
            "  inflating: DMV_Assess_1_Covid-19_Dataset/Normal/NORMAL2-IM-0926-0001.jpeg  \n",
            "  inflating: DMV_Assess_1_Covid-19_Dataset/Normal/NORMAL2-IM-0927-0001.jpeg  \n",
            "  inflating: DMV_Assess_1_Covid-19_Dataset/Normal/NORMAL2-IM-0929-0001.jpeg  \n",
            "  inflating: DMV_Assess_1_Covid-19_Dataset/Normal/NORMAL2-IM-0930-0001.jpeg  \n",
            "  inflating: DMV_Assess_1_Covid-19_Dataset/Normal/NORMAL2-IM-0931-0001.jpeg  \n",
            "  inflating: DMV_Assess_1_Covid-19_Dataset/Normal/NORMAL2-IM-0932-0001.jpeg  \n",
            "  inflating: DMV_Assess_1_Covid-19_Dataset/Normal/NORMAL2-IM-0933-0001.jpeg  \n",
            "  inflating: DMV_Assess_1_Covid-19_Dataset/Normal/NORMAL2-IM-0934-0001 - Copy.jpeg  \n",
            "  inflating: DMV_Assess_1_Covid-19_Dataset/Normal/NORMAL2-IM-0934-0001.jpeg  \n",
            "  inflating: DMV_Assess_1_Covid-19_Dataset/Normal/NORMAL2-IM-0935-0001 - Copy.jpeg  \n",
            "  inflating: DMV_Assess_1_Covid-19_Dataset/Normal/NORMAL2-IM-0935-0001.jpeg  \n",
            "  inflating: DMV_Assess_1_Covid-19_Dataset/Normal/NORMAL2-IM-0936-0001 - Copy.jpeg  \n",
            "  inflating: DMV_Assess_1_Covid-19_Dataset/Normal/NORMAL2-IM-0936-0001.jpeg  \n",
            "  inflating: DMV_Assess_1_Covid-19_Dataset/Normal/NORMAL2-IM-0937-0001.jpeg  \n",
            "  inflating: DMV_Assess_1_Covid-19_Dataset/Normal/NORMAL2-IM-0939-0001.jpeg  \n",
            "  inflating: DMV_Assess_1_Covid-19_Dataset/Normal/NORMAL2-IM-0941-0001 - Copy.jpeg  \n",
            "  inflating: DMV_Assess_1_Covid-19_Dataset/Normal/NORMAL2-IM-0941-0001.jpeg  \n",
            "  inflating: DMV_Assess_1_Covid-19_Dataset/Normal/NORMAL2-IM-0942-0001.jpeg  \n",
            "  inflating: DMV_Assess_1_Covid-19_Dataset/Normal/NORMAL2-IM-0944-0001.jpeg  \n",
            "  inflating: DMV_Assess_1_Covid-19_Dataset/Normal/NORMAL2-IM-0945-0001.jpeg  \n",
            "  inflating: DMV_Assess_1_Covid-19_Dataset/Normal/NORMAL2-IM-0946-0001.jpeg  \n",
            "  inflating: DMV_Assess_1_Covid-19_Dataset/Normal/NORMAL2-IM-0947-0001.jpeg  \n",
            "  inflating: DMV_Assess_1_Covid-19_Dataset/Normal/NORMAL2-IM-0948-0001.jpeg  \n",
            "  inflating: DMV_Assess_1_Covid-19_Dataset/Normal/NORMAL2-IM-0949-0001.jpeg  \n",
            "  inflating: DMV_Assess_1_Covid-19_Dataset/Normal/NORMAL2-IM-0950-0001.jpeg  \n",
            "  inflating: DMV_Assess_1_Covid-19_Dataset/Normal/NORMAL2-IM-0951-0001.jpeg  \n",
            "  inflating: DMV_Assess_1_Covid-19_Dataset/Normal/NORMAL2-IM-0952-0001.jpeg  \n",
            "  inflating: DMV_Assess_1_Covid-19_Dataset/Normal/NORMAL2-IM-0954-0001.jpeg  \n",
            "  inflating: DMV_Assess_1_Covid-19_Dataset/Normal/NORMAL2-IM-0955-0001.jpeg  \n",
            "  inflating: DMV_Assess_1_Covid-19_Dataset/Normal/NORMAL2-IM-0956-0001.jpeg  \n",
            "  inflating: DMV_Assess_1_Covid-19_Dataset/Normal/NORMAL2-IM-0957-0001.jpeg  \n",
            "  inflating: DMV_Assess_1_Covid-19_Dataset/Normal/NORMAL2-IM-0959-0001.jpeg  \n",
            "  inflating: DMV_Assess_1_Covid-19_Dataset/Normal/NORMAL2-IM-0960-0001.jpeg  \n",
            "  inflating: DMV_Assess_1_Covid-19_Dataset/Normal/NORMAL2-IM-0961-0001.jpeg  \n",
            "  inflating: DMV_Assess_1_Covid-19_Dataset/Normal/NORMAL2-IM-0962-0001.jpeg  \n",
            "  inflating: DMV_Assess_1_Covid-19_Dataset/Normal/NORMAL2-IM-0965-0001.jpeg  \n",
            "  inflating: DMV_Assess_1_Covid-19_Dataset/Normal/NORMAL2-IM-0966-0001.jpeg  \n",
            "  inflating: DMV_Assess_1_Covid-19_Dataset/Normal/NORMAL2-IM-0967-0001.jpeg  \n",
            "  inflating: DMV_Assess_1_Covid-19_Dataset/Normal/NORMAL2-IM-0969-0001.jpeg  \n",
            "  inflating: DMV_Assess_1_Covid-19_Dataset/Normal/NORMAL2-IM-0970-0001.jpeg  \n",
            "  inflating: DMV_Assess_1_Covid-19_Dataset/Normal/NORMAL2-IM-0971-0001-0001.jpeg  \n",
            "  inflating: DMV_Assess_1_Covid-19_Dataset/Normal/NORMAL2-IM-0971-0001-0002.jpeg  \n",
            "  inflating: DMV_Assess_1_Covid-19_Dataset/Normal/NORMAL2-IM-0974-0001.jpeg  \n",
            "  inflating: DMV_Assess_1_Covid-19_Dataset/Normal/NORMAL2-IM-0975-0001.jpeg  \n",
            "  inflating: DMV_Assess_1_Covid-19_Dataset/Normal/NORMAL2-IM-0976-0001.jpeg  \n",
            "  inflating: DMV_Assess_1_Covid-19_Dataset/Normal/NORMAL2-IM-0977-0001.jpeg  \n",
            "  inflating: DMV_Assess_1_Covid-19_Dataset/Normal/NORMAL2-IM-0978-0001.jpeg  \n",
            "  inflating: DMV_Assess_1_Covid-19_Dataset/Normal/NORMAL2-IM-0979-0001.jpeg  \n",
            "  inflating: DMV_Assess_1_Covid-19_Dataset/Normal/NORMAL2-IM-0980-0001.jpeg  \n",
            "  inflating: DMV_Assess_1_Covid-19_Dataset/Normal/NORMAL2-IM-0981-0001.jpeg  \n",
            "  inflating: DMV_Assess_1_Covid-19_Dataset/Normal/NORMAL2-IM-0983-0001-0002.jpeg  \n",
            "  inflating: DMV_Assess_1_Covid-19_Dataset/Normal/NORMAL2-IM-0983-0001.jpeg  \n",
            "  inflating: DMV_Assess_1_Covid-19_Dataset/Normal/NORMAL2-IM-0987-0001.jpeg  \n",
            "  inflating: DMV_Assess_1_Covid-19_Dataset/Normal/NORMAL2-IM-0993-0001.jpeg  \n",
            "  inflating: DMV_Assess_1_Covid-19_Dataset/Normal/NORMAL2-IM-0995-0001-0001.jpeg  \n",
            "  inflating: DMV_Assess_1_Covid-19_Dataset/Normal/NORMAL2-IM-0995-0001-0002.jpeg  \n",
            "  inflating: DMV_Assess_1_Covid-19_Dataset/Normal/NORMAL2-IM-0999-0001.jpeg  \n",
            "  inflating: DMV_Assess_1_Covid-19_Dataset/Normal/NORMAL2-IM-1001-0001.jpeg  \n",
            "  inflating: DMV_Assess_1_Covid-19_Dataset/Normal/NORMAL2-IM-1002-0001.jpeg  \n",
            "  inflating: DMV_Assess_1_Covid-19_Dataset/Normal/NORMAL2-IM-1006-0001.jpeg  \n",
            "  inflating: DMV_Assess_1_Covid-19_Dataset/Normal/NORMAL2-IM-1010-0001.jpeg  \n",
            "  inflating: DMV_Assess_1_Covid-19_Dataset/Normal/NORMAL2-IM-1011-0001.jpeg  \n",
            "  inflating: DMV_Assess_1_Covid-19_Dataset/Normal/NORMAL2-IM-1015-0001.jpeg  \n",
            "  inflating: DMV_Assess_1_Covid-19_Dataset/Normal/NORMAL2-IM-1017-0001.jpeg  \n",
            "  inflating: DMV_Assess_1_Covid-19_Dataset/Normal/NORMAL2-IM-1018-0001.jpeg  \n"
          ],
          "name": "stdout"
        }
      ]
    },
    {
      "cell_type": "markdown",
      "metadata": {
        "id": "z-ZdQnT-Y9i4"
      },
      "source": [
        "**Obtaining images and labels, and setting dimensions**"
      ]
    },
    {
      "cell_type": "code",
      "metadata": {
        "id": "Bu7NIpFDRrGC"
      },
      "source": [
        "#setting resolution to 446 x 446\n",
        "IMG_WIDTH=446\n",
        "IMG_HEIGHT=446\n",
        "directory=r'/content/DMV_Assess_1_Covid-19_Dataset'\n",
        "\n",
        "def obtain_imagelables(img_folder):\n",
        "    data=[]\n",
        "    labels=[]   \n",
        "    for folder in os.listdir(directory):\n",
        "        for image in os.listdir(os.path.join(directory, folder)):\n",
        "            image_path= os.path.join(directory, folder,  image)\n",
        "            image_data= cv2.imread( image_path, cv2.IMREAD_GRAYSCALE)\n",
        "            image_data=cv2.resize(image_data, (IMG_HEIGHT, IMG_WIDTH),interpolation = cv2.INTER_AREA)\n",
        "            image_data=np.array(image_data)\n",
        "            image_data = image_data.astype('float32')\n",
        "            image_data /= 255 \n",
        "            data.append(image_data)\n",
        "            labels.append(image)\n",
        "    return data\n",
        "\n",
        "data = obtain_imagelables(directory)\n",
        "\n",
        "#adding labels manually\n",
        "final_data = []\n",
        "for i in range(len(data)):\n",
        "  if i <= 100:\n",
        "    final_data.append([data[i],0]) # 0 for covid images\n",
        "  else:\n",
        "    final_data.append([data[i],1]) #1 for normal images\n",
        "\n",
        "#random.shuffle(covid_data)\n",
        "covid_data = final_data[0:100]\n",
        "X = []\n",
        "y = []\n",
        "\n",
        "for i,j in covid_data:\n",
        "   X.append(i)\n",
        "   y.append(j)\n",
        "\n",
        "x_train, x_test, y_train, y_test = train_test_split(X,y, test_size = 0.2)"
      ],
      "execution_count": null,
      "outputs": []
    },
    {
      "cell_type": "markdown",
      "metadata": {
        "id": "VdpuxGmJYQ6P"
      },
      "source": [
        "# **Building the cGAN model from scratch**"
      ]
    },
    {
      "cell_type": "code",
      "metadata": {
        "id": "IwItiso6bk8l"
      },
      "source": [
        "latent_dim = 100\n",
        "\n",
        "# Get the generator model\n",
        "def build_generator(latent_dim):\n",
        "  i = Input(shape=(latent_dim,))\n",
        "  x = Dense(256, activation=LeakyReLU(alpha=0.2))(i)\n",
        "  x = BatchNormalization(momentum=0.8)(x)\n",
        "  x = Dense(512, activation=LeakyReLU(alpha=0.2))(x)\n",
        "  x = BatchNormalization(momentum=0.8)(x)\n",
        "  x = Dense(1024, activation=LeakyReLU(alpha=0.2))(x)\n",
        "  x = BatchNormalization(momentum=0.8)(x)\n",
        "  x = Dense(1024, activation=LeakyReLU(alpha=0.2))(x)\n",
        "  x = BatchNormalization(momentum=0.8)(x)\n",
        "  x = Dense(D, activation='tanh')(x)\n",
        "\n",
        "  model = Model(i, x)\n",
        "  return model\n",
        "\n",
        "# Get the discriminator model\n",
        "def build_discriminator(img_size):\n",
        "  i = Input(shape=(img_size,))\n",
        "  x = Dense(512, activation=LeakyReLU(alpha=0.2))(i)\n",
        "  x = Dropout(0.4)(x) #regularization, overfitting prevention\n",
        "  x = Dense(512, activation=LeakyReLU(alpha=0.2))(x)\n",
        "  x = Dropout(0.4)(x)\n",
        "  x = Dense(512, activation=LeakyReLU(alpha=0.2))(x)\n",
        "  x = Dropout(0.4)(x) \n",
        "  x = Dense(512, activation=LeakyReLU(alpha=0.2))(x)\n",
        "  x = Dropout(0.4)(x) \n",
        "  x = Dense(1, activation='sigmoid')(x) #binary outcome, therefore sigmoid activation function\n",
        "  model = Model(i, x)\n",
        "  return model"
      ],
      "execution_count": null,
      "outputs": []
    },
    {
      "cell_type": "code",
      "metadata": {
        "id": "RI_hGW4MjPXr"
      },
      "source": [
        "# Reshaping data into a 1D Vector\n",
        "N = 160 #80:20 train-test\n",
        "H = IMG_HEIGHT\n",
        "W = IMG_WIDTH\n",
        "D = H * W \n",
        "x_train = np.array(x_train)\n",
        "x_test = np.array(x_test)\n",
        "x_train = x_train.reshape(-1, D) #flattening\n",
        "x_test = x_test.reshape(-1, D)\n",
        "\n",
        "# Build and compile the discriminator\n",
        "discriminator = build_discriminator(D)\n",
        "discriminator.compile(\n",
        "    loss='binary_crossentropy',\n",
        "    optimizer=Adam(0.0001, 0.5),  #choose parameters, either 0.0002 or 0.001\n",
        "    metrics=['accuracy'])\n",
        "\n",
        "# Compile\n",
        "generator = build_generator(latent_dim)\n",
        "z = Input(shape=(latent_dim,))\n",
        "img = generator(z)\n",
        "discriminator.trainable = False\n",
        "fake_pred = discriminator(img)\n",
        "combined_model = Model(z, fake_pred)\n",
        "combined_model.compile(loss='binary_crossentropy', optimizer=Adam(0.0001, 0.5)) #either 0.0002 or 0.001\n",
        "\n",
        "# Train the cGAN\n",
        "batch_size = 32\n",
        "epochs = 12000\n",
        "sample_period = 100 \n",
        "\n",
        "#auxiliary information\n",
        "ones = np.ones(batch_size)\n",
        "zeros = np.zeros(batch_size)\n",
        "d_losses = []\n",
        "g_losses = []"
      ],
      "execution_count": null,
      "outputs": []
    },
    {
      "cell_type": "code",
      "metadata": {
        "id": "Ey9vNrqE4CSr"
      },
      "source": [
        " #rm -rf /content/artificial_images"
      ],
      "execution_count": null,
      "outputs": []
    },
    {
      "cell_type": "markdown",
      "metadata": {
        "id": "EjTjgJPuyi19"
      },
      "source": [
        "**Run cell below to train the model. NOTE: It will take 60+ minutes to finish training process using GPU**"
      ]
    },
    {
      "cell_type": "code",
      "metadata": {
        "colab": {
          "background_save": true
        },
        "id": "Up72yV3diTc0"
      },
      "source": [
        "from PIL import Image\n",
        "\n",
        "def sample_images(epoch):\n",
        "  rows, cols = 10, 5 # generating 10 x 5 = 50 images\n",
        "  noise = np.random.randn(rows * cols, latent_dim)\n",
        "  imgs = generator.predict(noise)\n",
        "  imgs = 0.5 * imgs + 0.5\n",
        "\n",
        "  #after every 200th epoch after and including 3000, save to a unique folder\n",
        "  if epoch % 200 == 0 and epoch > 2999:  \n",
        "    counter = 1\n",
        "    if not os.path.exists('artificial_images'):\n",
        "      os.makedirs('artificial_images')\n",
        "    if not os.path.exists('artificial_images/artificial_images_epoch{}'.format(epoch)):\n",
        "      os.makedirs('artificial_images/artificial_images_epoch{}'.format(epoch))\n",
        "    for i in imgs:\n",
        "      fig, axs = plt.subplots()\n",
        "      print(\"Image generated at epoch %d\" %epoch)\n",
        "      axs.imshow(i.reshape(446, 446), cmap='gray')\n",
        "      axs.axis('off')\n",
        "      fig.savefig(\"artificial_images/artificial_images_epoch{}/{}.png\".format(epoch,counter))\n",
        "      counter += 1\n",
        "\n",
        "\n",
        "for epoch in range(epochs):\n",
        "\n",
        "  ### Train discriminator ###\n",
        "  \n",
        "  # Select a random batch of images\n",
        "  idx = np.random.randint(10, 80, batch_size)\n",
        "  x_train = np.array(x_train)\n",
        "  real_imgs = x_train[idx]\n",
        "  \n",
        "  # Generate fake images\n",
        "  noise = np.random.randn(batch_size, latent_dim)\n",
        "  fake_imgs = generator.predict(noise)\n",
        "  \n",
        "  # Train the discriminator\n",
        "  d_loss_real, d_acc_real = discriminator.train_on_batch(real_imgs, ones)\n",
        "  d_loss_fake, d_acc_fake = discriminator.train_on_batch(fake_imgs, zeros)\n",
        "  d_loss = 0.5 * (d_loss_real + d_loss_fake)\n",
        "  d_acc  = 0.5 * (d_acc_real + d_acc_fake)\n",
        "  \n",
        "  \n",
        "  #Train generator\n",
        "  noise = np.random.randn(batch_size, latent_dim)\n",
        "  g_loss = combined_model.train_on_batch(noise, ones)\n",
        "  noise = np.random.randn(batch_size, latent_dim)\n",
        "  g_loss = combined_model.train_on_batch(noise, ones)\n",
        "  # Append the loss metrics\n",
        "  d_losses.append(d_loss)\n",
        "  g_losses.append(g_loss)\n",
        "  \n",
        "  if epoch % 100 == 0:\n",
        "    print(f\"epoch: {epoch}, d_loss: {d_loss:.2f}, \\\n",
        "      d_acc: {d_acc:.2f}, g_loss: {g_loss:.2f}\")\n",
        "  \n",
        "  # if epoch % 100 == 0:\n",
        "  #   print(\"Epoch: {}\".format(epoch))\n",
        "\n",
        "  sample_images(epoch)\n"
      ],
      "execution_count": null,
      "outputs": []
    },
    {
      "cell_type": "code",
      "metadata": {
        "colab": {
          "background_save": true,
          "base_uri": "https://localhost:8080/"
        },
        "id": "qQaTWA4mdkFq",
        "outputId": "ad745a7d-b6f7-4595-a1cc-2eec961f8d4c"
      },
      "source": [
        "from google.colab import drive\n",
        "drive.mount('/content/drive')"
      ],
      "execution_count": null,
      "outputs": [
        {
          "output_type": "stream",
          "text": [
            "Mounted at /content/drive\n"
          ],
          "name": "stdout"
        }
      ]
    },
    {
      "cell_type": "markdown",
      "metadata": {
        "id": "JIyiXCxh_hVI"
      },
      "source": [
        "# **Classification model - Transfer Learning - ResNet50**"
      ]
    },
    {
      "cell_type": "code",
      "metadata": {
        "id": "TOj_21HciuAv"
      },
      "source": [
        "model = Sequential()\n",
        "model.add(ResNet50(include_top=False, pooling='avg', weights='imagenet'))\n",
        "model.layers[-1].trainable = False #freeze final layer\n",
        "model.add(Flatten())\n",
        "model.add(BatchNormalization())\n",
        "model.add(Dense(2048, activation='relu'))\n",
        "model.add(Dropout(0.4)) #overfit with 0.2\n",
        "model.add(BatchNormalization())\n",
        "# model.add(Dense(1024, activation='relu'))\n",
        "# model.add(Dropout(0.4))\n",
        "# model.add(BatchNormalization())\n",
        "model.add(Dense(2, activation='sigmoid'))\n",
        "\n",
        "opt = SGD(lr=0.001)\n",
        "model.compile(loss = \"categorical_crossentropy\", optimizer = opt, metrics=['accuracy'])\n",
        "\n"
      ],
      "execution_count": 71,
      "outputs": []
    },
    {
      "cell_type": "code",
      "metadata": {
        "colab": {
          "base_uri": "https://localhost:8080/"
        },
        "id": "zkwgz_7xjLBx",
        "outputId": "c5aae0a5-c923-4c50-ba10-d2500a0958f4"
      },
      "source": [
        "tf.config.run_functions_eagerly(True)\n",
        "\n",
        "train_datagen = ImageDataGenerator(rescale=1./255,\n",
        "    shear_range=0.2,\n",
        "    zoom_range=0.2,\n",
        "    horizontal_flip=True,\n",
        "    validation_split=0.2) \n",
        "\n",
        "test_datagen = ImageDataGenerator(rescale=1./255)\n",
        "\n",
        "train_generator = train_datagen.flow_from_directory(\n",
        "    '/content/DMV_Assess_1_Covid-19_Dataset',\n",
        "    class_mode='categorical',\n",
        "     batch_size = 25,\n",
        "    subset='training') \n",
        "\n",
        "validation_generator = train_datagen.flow_from_directory(\n",
        "    '/content/DMV_Assess_1_Covid-19_Dataset', \n",
        "    class_mode='categorical',\n",
        "     batch_size = 25,\n",
        "    subset='validation') \n",
        "\n",
        "\n",
        "history = model.fit(\n",
        "    train_generator,\n",
        "    validation_data = validation_generator, \n",
        "    epochs = 100,\n",
        "    validation_steps=2)"
      ],
      "execution_count": null,
      "outputs": [
        {
          "output_type": "stream",
          "text": [
            "Found 160 images belonging to 2 classes.\n",
            "Found 40 images belonging to 2 classes.\n"
          ],
          "name": "stdout"
        },
        {
          "output_type": "stream",
          "text": [
            "/usr/local/lib/python3.7/dist-packages/tensorflow/python/data/ops/dataset_ops.py:3504: UserWarning: Even though the tf.config.experimental_run_functions_eagerly option is set, this option does not apply to tf.data functions. tf.data functions are still traced and executed as graphs.\n",
            "  \"Even though the tf.config.experimental_run_functions_eagerly \"\n"
          ],
          "name": "stderr"
        },
        {
          "output_type": "stream",
          "text": [
            "Epoch 1/100\n",
            "7/7 [==============================] - 10s 1s/step - loss: 0.1106 - accuracy: 0.9563 - val_loss: 0.1205 - val_accuracy: 0.9500\n",
            "Epoch 2/100\n",
            "7/7 [==============================] - 8s 1s/step - loss: 0.1299 - accuracy: 0.9625 - val_loss: 0.1744 - val_accuracy: 0.9500\n",
            "Epoch 3/100\n",
            "7/7 [==============================] - 8s 1s/step - loss: 0.0768 - accuracy: 0.9625 - val_loss: 0.1798 - val_accuracy: 0.9250\n",
            "Epoch 4/100\n",
            "7/7 [==============================] - 9s 1s/step - loss: 0.0896 - accuracy: 0.9875 - val_loss: 0.1051 - val_accuracy: 0.9500\n",
            "Epoch 5/100\n",
            "7/7 [==============================] - 9s 1s/step - loss: 0.0499 - accuracy: 0.9750 - val_loss: 0.1500 - val_accuracy: 0.9500\n",
            "Epoch 6/100\n",
            "7/7 [==============================] - 8s 1s/step - loss: 0.0447 - accuracy: 0.9812 - val_loss: 0.1387 - val_accuracy: 0.9500\n",
            "Epoch 7/100\n",
            "7/7 [==============================] - 8s 1s/step - loss: 0.0601 - accuracy: 0.9812 - val_loss: 0.1156 - val_accuracy: 0.9500\n",
            "Epoch 8/100\n",
            "7/7 [==============================] - 8s 1s/step - loss: 0.0410 - accuracy: 0.9812 - val_loss: 0.0893 - val_accuracy: 0.9750\n",
            "Epoch 9/100\n",
            "7/7 [==============================] - 8s 1s/step - loss: 0.0967 - accuracy: 0.9750 - val_loss: 0.0787 - val_accuracy: 0.9500\n",
            "Epoch 10/100\n",
            "7/7 [==============================] - 8s 1s/step - loss: 0.0447 - accuracy: 0.9812 - val_loss: 0.1199 - val_accuracy: 0.9750\n",
            "Epoch 11/100\n",
            "7/7 [==============================] - 8s 1s/step - loss: 0.1135 - accuracy: 0.9563 - val_loss: 0.2793 - val_accuracy: 0.9000\n",
            "Epoch 12/100\n",
            "7/7 [==============================] - 8s 1s/step - loss: 0.0619 - accuracy: 0.9875 - val_loss: 0.1140 - val_accuracy: 0.9500\n",
            "Epoch 13/100\n",
            "7/7 [==============================] - 8s 1s/step - loss: 0.0523 - accuracy: 0.9875 - val_loss: 0.1398 - val_accuracy: 0.9500\n",
            "Epoch 14/100\n",
            "7/7 [==============================] - 8s 1s/step - loss: 0.0390 - accuracy: 0.9875 - val_loss: 0.0332 - val_accuracy: 0.9750\n",
            "Epoch 15/100\n",
            "7/7 [==============================] - 8s 1s/step - loss: 0.0376 - accuracy: 0.9937 - val_loss: 0.1240 - val_accuracy: 0.9500\n",
            "Epoch 16/100\n",
            "7/7 [==============================] - 8s 1s/step - loss: 0.0808 - accuracy: 0.9750 - val_loss: 0.0334 - val_accuracy: 0.9750\n",
            "Epoch 17/100\n",
            "7/7 [==============================] - 8s 1s/step - loss: 0.0930 - accuracy: 0.9750 - val_loss: 0.0968 - val_accuracy: 0.9750\n",
            "Epoch 18/100\n",
            "7/7 [==============================] - 8s 1s/step - loss: 0.0649 - accuracy: 0.9812 - val_loss: 0.1145 - val_accuracy: 0.9500\n",
            "Epoch 19/100\n",
            "7/7 [==============================] - 8s 1s/step - loss: 0.0571 - accuracy: 0.9688 - val_loss: 0.1261 - val_accuracy: 0.9750\n",
            "Epoch 20/100\n",
            "7/7 [==============================] - 8s 1s/step - loss: 0.1237 - accuracy: 0.9563 - val_loss: 0.1306 - val_accuracy: 0.9500\n",
            "Epoch 21/100\n",
            "7/7 [==============================] - 8s 1s/step - loss: 0.0466 - accuracy: 0.9812 - val_loss: 0.1166 - val_accuracy: 0.9750\n",
            "Epoch 22/100\n",
            "7/7 [==============================] - 8s 1s/step - loss: 0.1109 - accuracy: 0.9563 - val_loss: 0.1079 - val_accuracy: 0.9500\n",
            "Epoch 23/100\n",
            "7/7 [==============================] - 8s 1s/step - loss: 0.0759 - accuracy: 0.9750 - val_loss: 0.1098 - val_accuracy: 0.9750\n",
            "Epoch 24/100\n",
            "7/7 [==============================] - 8s 1s/step - loss: 0.0853 - accuracy: 0.9750 - val_loss: 0.1477 - val_accuracy: 0.9500\n",
            "Epoch 25/100\n",
            "7/7 [==============================] - 8s 1s/step - loss: 0.0493 - accuracy: 0.9875 - val_loss: 0.1431 - val_accuracy: 0.9750\n",
            "Epoch 26/100\n",
            "7/7 [==============================] - 8s 1s/step - loss: 0.1350 - accuracy: 0.9500 - val_loss: 0.1391 - val_accuracy: 0.9750\n",
            "Epoch 27/100\n",
            "7/7 [==============================] - 8s 1s/step - loss: 0.0473 - accuracy: 0.9875 - val_loss: 0.1351 - val_accuracy: 0.9500\n",
            "Epoch 28/100\n",
            "7/7 [==============================] - 8s 1s/step - loss: 0.0872 - accuracy: 0.9812 - val_loss: 0.1637 - val_accuracy: 0.9500\n",
            "Epoch 29/100\n",
            "7/7 [==============================] - 8s 1s/step - loss: 0.0554 - accuracy: 0.9750 - val_loss: 0.1712 - val_accuracy: 0.9750\n",
            "Epoch 30/100\n",
            "7/7 [==============================] - 8s 1s/step - loss: 0.0876 - accuracy: 0.9688 - val_loss: 0.1372 - val_accuracy: 0.9500\n",
            "Epoch 31/100\n",
            "7/7 [==============================] - 8s 1s/step - loss: 0.0515 - accuracy: 0.9875 - val_loss: 0.0657 - val_accuracy: 0.9750\n",
            "Epoch 32/100\n",
            "7/7 [==============================] - 8s 1s/step - loss: 0.0506 - accuracy: 0.9812 - val_loss: 0.0503 - val_accuracy: 0.9750\n",
            "Epoch 33/100\n",
            "7/7 [==============================] - 8s 1s/step - loss: 0.1001 - accuracy: 0.9688 - val_loss: 0.0972 - val_accuracy: 0.9500\n",
            "Epoch 34/100\n",
            "7/7 [==============================] - 8s 1s/step - loss: 0.0804 - accuracy: 0.9750 - val_loss: 0.0358 - val_accuracy: 1.0000\n",
            "Epoch 35/100\n",
            "7/7 [==============================] - 8s 1s/step - loss: 0.0369 - accuracy: 0.9937 - val_loss: 0.1013 - val_accuracy: 0.9750\n",
            "Epoch 36/100\n",
            "7/7 [==============================] - 9s 1s/step - loss: 0.0941 - accuracy: 0.9688 - val_loss: 0.1433 - val_accuracy: 0.9500\n",
            "Epoch 37/100\n",
            "7/7 [==============================] - 8s 1s/step - loss: 0.0854 - accuracy: 0.9625 - val_loss: 0.0761 - val_accuracy: 0.9750\n",
            "Epoch 38/100\n",
            "7/7 [==============================] - 8s 1s/step - loss: 0.0693 - accuracy: 0.9688 - val_loss: 0.1967 - val_accuracy: 0.9000\n",
            "Epoch 39/100\n",
            "7/7 [==============================] - 8s 1s/step - loss: 0.0881 - accuracy: 0.9625 - val_loss: 0.1018 - val_accuracy: 0.9750\n",
            "Epoch 40/100\n",
            "7/7 [==============================] - 8s 1s/step - loss: 0.1630 - accuracy: 0.9500 - val_loss: 0.1312 - val_accuracy: 0.9500\n",
            "Epoch 41/100\n",
            "7/7 [==============================] - 8s 1s/step - loss: 0.0241 - accuracy: 0.9875 - val_loss: 0.1053 - val_accuracy: 0.9750\n",
            "Epoch 42/100\n",
            "7/7 [==============================] - 8s 1s/step - loss: 0.0892 - accuracy: 0.9812 - val_loss: 0.0677 - val_accuracy: 0.9750\n",
            "Epoch 43/100\n",
            "7/7 [==============================] - 8s 1s/step - loss: 0.0905 - accuracy: 0.9625 - val_loss: 0.1505 - val_accuracy: 0.9500\n",
            "Epoch 44/100\n",
            "7/7 [==============================] - 8s 1s/step - loss: 0.0615 - accuracy: 0.9750 - val_loss: 0.1118 - val_accuracy: 0.9750\n",
            "Epoch 45/100\n",
            "7/7 [==============================] - 8s 1s/step - loss: 0.0631 - accuracy: 0.9812 - val_loss: 0.1278 - val_accuracy: 0.9750\n",
            "Epoch 46/100\n",
            "7/7 [==============================] - 8s 1s/step - loss: 0.0642 - accuracy: 0.9688 - val_loss: 0.1355 - val_accuracy: 0.9500\n",
            "Epoch 47/100\n",
            "7/7 [==============================] - 8s 1s/step - loss: 0.0272 - accuracy: 1.0000 - val_loss: 0.1402 - val_accuracy: 0.9750\n",
            "Epoch 48/100\n",
            "7/7 [==============================] - 8s 1s/step - loss: 0.0683 - accuracy: 0.9750 - val_loss: 0.1321 - val_accuracy: 0.9750\n",
            "Epoch 49/100\n",
            "7/7 [==============================] - 8s 1s/step - loss: 0.0825 - accuracy: 0.9750 - val_loss: 0.1393 - val_accuracy: 0.9500\n",
            "Epoch 50/100\n",
            "7/7 [==============================] - 8s 1s/step - loss: 0.0730 - accuracy: 0.9688 - val_loss: 0.1797 - val_accuracy: 0.9500\n",
            "Epoch 51/100\n",
            "7/7 [==============================] - 8s 1s/step - loss: 0.0769 - accuracy: 0.9625 - val_loss: 0.1181 - val_accuracy: 0.9250\n",
            "Epoch 52/100\n",
            "7/7 [==============================] - 8s 1s/step - loss: 0.0393 - accuracy: 0.9937 - val_loss: 0.0600 - val_accuracy: 0.9750\n",
            "Epoch 53/100\n",
            "7/7 [==============================] - 8s 1s/step - loss: 0.0763 - accuracy: 0.9750 - val_loss: 0.1321 - val_accuracy: 0.9500\n",
            "Epoch 54/100\n",
            "7/7 [==============================] - 8s 1s/step - loss: 0.0653 - accuracy: 0.9875 - val_loss: 0.1408 - val_accuracy: 0.9500\n",
            "Epoch 55/100\n",
            "7/7 [==============================] - 8s 1s/step - loss: 0.0469 - accuracy: 0.9750 - val_loss: 0.1412 - val_accuracy: 0.9500\n",
            "Epoch 56/100\n",
            "7/7 [==============================] - 8s 1s/step - loss: 0.0803 - accuracy: 0.9750 - val_loss: 0.0657 - val_accuracy: 0.9750\n",
            "Epoch 57/100\n",
            "7/7 [==============================] - 8s 1s/step - loss: 0.0683 - accuracy: 0.9812 - val_loss: 0.1892 - val_accuracy: 0.9500\n",
            "Epoch 58/100\n",
            "7/7 [==============================] - 8s 1s/step - loss: 0.0550 - accuracy: 0.9812 - val_loss: 0.1626 - val_accuracy: 0.9500\n",
            "Epoch 59/100\n",
            "7/7 [==============================] - 8s 1s/step - loss: 0.0655 - accuracy: 0.9688 - val_loss: 0.0685 - val_accuracy: 0.9750\n",
            "Epoch 60/100\n",
            "7/7 [==============================] - 8s 1s/step - loss: 0.0431 - accuracy: 0.9875 - val_loss: 0.1230 - val_accuracy: 0.9500\n",
            "Epoch 61/100\n",
            "7/7 [==============================] - 8s 1s/step - loss: 0.0404 - accuracy: 0.9875 - val_loss: 0.0811 - val_accuracy: 0.9750\n",
            "Epoch 62/100\n",
            "7/7 [==============================] - 8s 1s/step - loss: 0.0386 - accuracy: 0.9937 - val_loss: 0.1537 - val_accuracy: 0.9500\n",
            "Epoch 63/100\n",
            "7/7 [==============================] - 8s 1s/step - loss: 0.0525 - accuracy: 0.9812 - val_loss: 0.0405 - val_accuracy: 1.0000\n",
            "Epoch 64/100\n",
            "7/7 [==============================] - 8s 1s/step - loss: 0.0691 - accuracy: 0.9750 - val_loss: 0.0893 - val_accuracy: 0.9500\n",
            "Epoch 65/100\n",
            "7/7 [==============================] - 8s 1s/step - loss: 0.0781 - accuracy: 0.9750 - val_loss: 0.0704 - val_accuracy: 0.9750\n",
            "Epoch 66/100\n",
            "7/7 [==============================] - 8s 1s/step - loss: 0.0450 - accuracy: 0.9812 - val_loss: 0.0723 - val_accuracy: 0.9500\n",
            "Epoch 67/100\n",
            "7/7 [==============================] - 8s 1s/step - loss: 0.0623 - accuracy: 0.9812 - val_loss: 0.1028 - val_accuracy: 0.9750\n",
            "Epoch 68/100\n",
            "7/7 [==============================] - 8s 1s/step - loss: 0.0790 - accuracy: 0.9750 - val_loss: 0.1300 - val_accuracy: 0.9500\n",
            "Epoch 69/100\n",
            "7/7 [==============================] - 8s 1s/step - loss: 0.0675 - accuracy: 0.9750 - val_loss: 0.0906 - val_accuracy: 0.9750\n",
            "Epoch 70/100\n",
            "7/7 [==============================] - 8s 1s/step - loss: 0.0660 - accuracy: 0.9688 - val_loss: 0.1037 - val_accuracy: 0.9500\n",
            "Epoch 71/100\n",
            "7/7 [==============================] - 8s 1s/step - loss: 0.0780 - accuracy: 0.9812 - val_loss: 0.1434 - val_accuracy: 0.9250\n",
            "Epoch 72/100\n",
            "7/7 [==============================] - 8s 1s/step - loss: 0.0539 - accuracy: 0.9875 - val_loss: 0.0716 - val_accuracy: 0.9500\n",
            "Epoch 73/100\n",
            "7/7 [==============================] - 9s 1s/step - loss: 0.0506 - accuracy: 0.9812 - val_loss: 0.1045 - val_accuracy: 0.9750\n",
            "Epoch 74/100\n",
            "7/7 [==============================] - 8s 1s/step - loss: 0.0578 - accuracy: 0.9812 - val_loss: 0.0703 - val_accuracy: 0.9750\n",
            "Epoch 75/100\n",
            "7/7 [==============================] - 8s 1s/step - loss: 0.0670 - accuracy: 0.9750 - val_loss: 0.0750 - val_accuracy: 0.9750\n",
            "Epoch 76/100\n",
            "7/7 [==============================] - 8s 1s/step - loss: 0.0379 - accuracy: 0.9937 - val_loss: 0.1276 - val_accuracy: 0.9750\n",
            "Epoch 77/100\n",
            "7/7 [==============================] - 8s 1s/step - loss: 0.0329 - accuracy: 0.9937 - val_loss: 0.0709 - val_accuracy: 0.9750\n",
            "Epoch 78/100\n",
            "7/7 [==============================] - 8s 1s/step - loss: 0.0547 - accuracy: 0.9750 - val_loss: 0.0992 - val_accuracy: 0.9500\n",
            "Epoch 79/100\n",
            "7/7 [==============================] - 9s 1s/step - loss: 0.0629 - accuracy: 0.9875 - val_loss: 0.1112 - val_accuracy: 0.9750\n",
            "Epoch 80/100\n",
            "7/7 [==============================] - 8s 1s/step - loss: 0.0841 - accuracy: 0.9688 - val_loss: 0.0707 - val_accuracy: 0.9750\n",
            "Epoch 81/100\n",
            "7/7 [==============================] - 8s 1s/step - loss: 0.0284 - accuracy: 0.9875 - val_loss: 0.1557 - val_accuracy: 0.9750\n",
            "Epoch 82/100\n",
            "7/7 [==============================] - 8s 1s/step - loss: 0.0684 - accuracy: 0.9937 - val_loss: 0.0707 - val_accuracy: 0.9750\n",
            "Epoch 83/100\n",
            "7/7 [==============================] - 8s 1s/step - loss: 0.0372 - accuracy: 0.9937 - val_loss: 0.1803 - val_accuracy: 0.9500\n",
            "Epoch 84/100\n",
            "7/7 [==============================] - 8s 1s/step - loss: 0.0588 - accuracy: 0.9750 - val_loss: 0.1094 - val_accuracy: 0.9500\n",
            "Epoch 85/100\n",
            "7/7 [==============================] - 8s 1s/step - loss: 0.0492 - accuracy: 0.9812 - val_loss: 0.1729 - val_accuracy: 0.9500\n",
            "Epoch 86/100\n",
            "7/7 [==============================] - 8s 1s/step - loss: 0.0704 - accuracy: 0.9812 - val_loss: 0.1446 - val_accuracy: 0.9250\n",
            "Epoch 87/100\n",
            "7/7 [==============================] - 8s 1s/step - loss: 0.0842 - accuracy: 0.9688 - val_loss: 0.2178 - val_accuracy: 0.9500\n",
            "Epoch 88/100\n",
            "7/7 [==============================] - 8s 1s/step - loss: 0.1012 - accuracy: 0.9812 - val_loss: 0.0888 - val_accuracy: 0.9500\n",
            "Epoch 89/100\n",
            "7/7 [==============================] - 8s 1s/step - loss: 0.0512 - accuracy: 0.9812 - val_loss: 0.1408 - val_accuracy: 0.9750\n",
            "Epoch 90/100\n",
            "7/7 [==============================] - 8s 1s/step - loss: 0.0748 - accuracy: 0.9750 - val_loss: 0.1221 - val_accuracy: 0.9750\n",
            "Epoch 91/100\n",
            "7/7 [==============================] - 8s 1s/step - loss: 0.0639 - accuracy: 0.9750 - val_loss: 0.1376 - val_accuracy: 0.9250\n",
            "Epoch 92/100\n",
            "7/7 [==============================] - 9s 1s/step - loss: 0.0325 - accuracy: 0.9875 - val_loss: 0.1256 - val_accuracy: 0.9500\n",
            "Epoch 93/100\n",
            "7/7 [==============================] - 8s 1s/step - loss: 0.0531 - accuracy: 0.9875 - val_loss: 0.1139 - val_accuracy: 0.9750\n",
            "Epoch 94/100\n",
            "7/7 [==============================] - 8s 1s/step - loss: 0.0670 - accuracy: 0.9812 - val_loss: 0.1434 - val_accuracy: 0.9500\n",
            "Epoch 95/100\n",
            "7/7 [==============================] - 8s 1s/step - loss: 0.0352 - accuracy: 0.9937 - val_loss: 0.1758 - val_accuracy: 0.9500\n",
            "Epoch 96/100\n",
            "7/7 [==============================] - 8s 1s/step - loss: 0.0693 - accuracy: 0.9688 - val_loss: 0.1258 - val_accuracy: 0.9500\n",
            "Epoch 97/100\n",
            "7/7 [==============================] - 8s 1s/step - loss: 0.0420 - accuracy: 0.9875 - val_loss: 0.0516 - val_accuracy: 0.9750\n",
            "Epoch 98/100\n",
            "7/7 [==============================] - 8s 1s/step - loss: 0.0701 - accuracy: 0.9563 - val_loss: 0.0820 - val_accuracy: 0.9750\n",
            "Epoch 99/100\n",
            "7/7 [==============================] - 8s 1s/step - loss: 0.0624 - accuracy: 0.9688 - val_loss: 0.0374 - val_accuracy: 0.9750\n",
            "Epoch 100/100\n",
            "7/7 [==============================] - 8s 1s/step - loss: 0.0486 - accuracy: 0.9812 - val_loss: 0.2039 - val_accuracy: 0.9250\n"
          ],
          "name": "stdout"
        }
      ]
    },
    {
      "cell_type": "code",
      "metadata": {
        "colab": {
          "base_uri": "https://localhost:8080/",
          "height": 590
        },
        "id": "mlK5i-6lvPbi",
        "outputId": "7df8c26c-043b-45c7-aa3e-5e449db326ab"
      },
      "source": [
        "print(history.history.keys())\n",
        "# summarize history for accuracy\n",
        "plt.plot(history.history['accuracy'])\n",
        "plt.plot(history.history['val_accuracy'])\n",
        "plt.title('model accuracy')\n",
        "plt.ylabel('accuracy')\n",
        "plt.xlabel('epoch')\n",
        "plt.legend(['train', 'test'], loc='upper left')\n",
        "plt.ylim([0.85, 1.00])\n",
        "plt.show()\n",
        "# summarize history for loss\n",
        "plt.plot(history.history['loss'])\n",
        "plt.plot(history.history['val_loss'])\n",
        "plt.title('model loss')\n",
        "plt.ylabel('loss')\n",
        "plt.xlabel('epoch')\n",
        "plt.legend(['train', 'test'], loc='upper left')\n",
        "plt.ylim([0.00,0.35])\n",
        "plt.show()"
      ],
      "execution_count": null,
      "outputs": [
        {
          "output_type": "stream",
          "text": [
            "dict_keys(['loss', 'accuracy', 'val_loss', 'val_accuracy'])\n"
          ],
          "name": "stdout"
        },
        {
          "output_type": "display_data",
          "data": {
            "image/png": "[encoded data removed]",
            "text/plain": [
              "<Figure size 432x288 with 1 Axes>"
            ]
          },
          "metadata": {
            "tags": []
          }
        },
        {
          "output_type": "display_data",
          "data": {
            "image/png": "[encoded data removed]",
            "text/plain": [
              "<Figure size 432x288 with 1 Axes>"
            ]
          },
          "metadata": {
            "tags": []
          }
        }
      ]
    },
    {
      "cell_type": "code",
      "metadata": {
        "colab": {
          "base_uri": "https://localhost:8080/"
        },
        "id": "ZoDrHKVXxo_c",
        "outputId": "337e82f6-23a2-4d73-c9c2-760b4a87867f"
      },
      "source": [
        "scoreSeg = model.evaluate_generator(validation_generator, 40)\n",
        "print(scoreSeg)"
      ],
      "execution_count": null,
      "outputs": [
        {
          "output_type": "stream",
          "text": [
            "/usr/local/lib/python3.7/dist-packages/tensorflow/python/keras/engine/training.py:1877: UserWarning: `Model.evaluate_generator` is deprecated and will be removed in a future version. Please use `Model.evaluate`, which supports generators.\n",
            "  warnings.warn('`Model.evaluate_generator` is deprecated and '\n",
            "/usr/local/lib/python3.7/dist-packages/tensorflow/python/data/ops/dataset_ops.py:3504: UserWarning: Even though the tf.config.experimental_run_functions_eagerly option is set, this option does not apply to tf.data functions. tf.data functions are still traced and executed as graphs.\n",
            "  \"Even though the tf.config.experimental_run_functions_eagerly \"\n"
          ],
          "name": "stderr"
        },
        {
          "output_type": "stream",
          "text": [
            "WARNING:tensorflow:Your input ran out of data; interrupting training. Make sure that your dataset or generator can generate at least `steps_per_epoch * epochs` batches (in this case, 40 batches). You may need to use the repeat() function when building your dataset.\n",
            "[0.12838418781757355, 0.949999988079071]\n"
          ],
          "name": "stdout"
        }
      ]
    },
    {
      "cell_type": "markdown",
      "metadata": {
        "id": "a9pzXlOoour8"
      },
      "source": [
        "# **Classification on Synthetic Images** "
      ]
    },
    {
      "cell_type": "code",
      "metadata": {
        "id": "SEbkZidY28Wv"
      },
      "source": [
        "covid_path = \"/content/DMV_Assess_1_Covid-19_Dataset/Covid-19/\"\n",
        "normal_path = \"/content/DMV_Assess_1_Covid-19_Dataset/Normal/\"\n",
        "\n",
        "imgs_covid = []\n",
        "for i in os.listdir(covid_path):\n",
        "  og_image = Image.open(covid_path+i)\n",
        "  gray_image = ImageOps.grayscale(og_image)\n",
        "  imgs_covid.append(gray_image)\n",
        "\n",
        "\n",
        "imgs_normal = []\n",
        "for i in os.listdir(normal_path):\n",
        "  og_image = Image.open(normal_path+i)\n",
        "  gray_image = ImageOps.grayscale(og_image)\n",
        "  imgs_normal.append(gray_image)"
      ],
      "execution_count": 21,
      "outputs": []
    },
    {
      "cell_type": "code",
      "metadata": {
        "id": "GCziFbynamY_"
      },
      "source": [
        "imgs_gans = []\n",
        "gans_path = '/content/drive/MyDrive/artificial_images_epoch4000/'\n",
        "for i in os.listdir(gans_path):\n",
        "  og_image = Image.open(gans_path+i)\n",
        "  # gray_image = ImageOps.grayscale(og_image)\n",
        "  imgs_gans.append(og_image)\n",
        "\n",
        "\n",
        "images_gans = random.sample(imgs_gans,50)\n",
        "images_covid = random.sample(imgs_covid,50)\n",
        "final_images = images_gans + images_covid\n"
      ],
      "execution_count": 22,
      "outputs": []
    },
    {
      "cell_type": "code",
      "metadata": {
        "colab": {
          "base_uri": "https://localhost:8080/"
        },
        "id": "32HYPya84L61",
        "outputId": "4568b2a2-08b1-4947-983e-3cbb87f5c833"
      },
      "source": [
        "len(final_images)"
      ],
      "execution_count": 23,
      "outputs": [
        {
          "output_type": "execute_result",
          "data": {
            "text/plain": [
              "100"
            ]
          },
          "metadata": {
            "tags": []
          },
          "execution_count": 23
        }
      ]
    },
    {
      "cell_type": "code",
      "metadata": {
        "id": "2ts21_hs3Yl3"
      },
      "source": [
        " #rm -rf /content/final_images"
      ],
      "execution_count": 25,
      "outputs": []
    },
    {
      "cell_type": "code",
      "metadata": {
        "id": "QSHzxgaJ4ZRX"
      },
      "source": [
        "if not os.path.exists('final_images'):\n",
        "  os.makedirs('final_images')\n",
        "\n",
        "if not os.path.exists('final_images/Covid-19'):\n",
        "  os.makedirs('final_images/Covid-19')\n",
        "\n",
        "if not os.path.exists('final_images/Normal'):\n",
        "  os.makedirs('final_images/Normal')\n",
        "\n",
        "counter = 0\n",
        "for img in final_images:\n",
        "  counter+=1\n",
        "  img.save(\"final_images/Covid-19/%d.png\" %counter)\n",
        "\n",
        "counter = 0\n",
        "for img in imgs_normal:\n",
        "  counter+=1\n",
        "  img.save(\"final_images/Normal/%d.png\" %counter)\n"
      ],
      "execution_count": 26,
      "outputs": []
    },
    {
      "cell_type": "code",
      "metadata": {
        "id": "QslmqZUK-mol",
        "colab": {
          "base_uri": "https://localhost:8080/"
        },
        "outputId": "4ebdbeda-7f66-4691-e91b-5b50b51ce00e"
      },
      "source": [
        "tf.config.run_functions_eagerly(True)\n",
        "\n",
        "train_datagen = ImageDataGenerator(rescale=1./255,\n",
        "    shear_range=0.2,\n",
        "    zoom_range=0.2,\n",
        "    horizontal_flip=True,\n",
        "    validation_split=0.2) # set validation split\n",
        "\n",
        "test_datagen = ImageDataGenerator(rescale=1./255)\n",
        "\n",
        "train_generator = train_datagen.flow_from_directory(\n",
        "    '/content/final_images',\n",
        "    class_mode='categorical',\n",
        "     batch_size = 16,\n",
        "    subset='training') # set as training data\n",
        "\n",
        "validation_generator = train_datagen.flow_from_directory(\n",
        "    '/content/final_images', # same directory as training data\n",
        "    class_mode='categorical',\n",
        "     batch_size = 16,\n",
        "    subset='validation') \n",
        "\n",
        "history = model.fit_generator(\n",
        "    train_generator,\n",
        "    validation_data = validation_generator, \n",
        "    epochs = 100,\n",
        "    validation_steps=2)"
      ],
      "execution_count": 73,
      "outputs": [
        {
          "output_type": "stream",
          "text": [
            "Found 160 images belonging to 2 classes.\n",
            "Found 40 images belonging to 2 classes.\n"
          ],
          "name": "stdout"
        },
        {
          "output_type": "stream",
          "text": [
            "/usr/local/lib/python3.7/dist-packages/tensorflow/python/keras/engine/training.py:1844: UserWarning: `Model.fit_generator` is deprecated and will be removed in a future version. Please use `Model.fit`, which supports generators.\n",
            "  warnings.warn('`Model.fit_generator` is deprecated and '\n",
            "/usr/local/lib/python3.7/dist-packages/tensorflow/python/data/ops/dataset_ops.py:3504: UserWarning: Even though the tf.config.experimental_run_functions_eagerly option is set, this option does not apply to tf.data functions. tf.data functions are still traced and executed as graphs.\n",
            "  \"Even though the tf.config.experimental_run_functions_eagerly \"\n"
          ],
          "name": "stderr"
        },
        {
          "output_type": "stream",
          "text": [
            "Epoch 1/100\n",
            "10/10 [==============================] - 9s 903ms/step - loss: 0.1303 - accuracy: 0.9438 - val_loss: 0.5462 - val_accuracy: 0.5312\n",
            "Epoch 2/100\n",
            "10/10 [==============================] - 9s 906ms/step - loss: 0.1656 - accuracy: 0.9375 - val_loss: 0.5063 - val_accuracy: 0.5625\n",
            "Epoch 3/100\n",
            "10/10 [==============================] - 9s 884ms/step - loss: 0.1282 - accuracy: 0.9438 - val_loss: 0.5582 - val_accuracy: 0.5938\n",
            "Epoch 4/100\n",
            "10/10 [==============================] - 9s 887ms/step - loss: 0.1080 - accuracy: 0.9500 - val_loss: 0.5079 - val_accuracy: 0.6875\n",
            "Epoch 5/100\n",
            "10/10 [==============================] - 9s 875ms/step - loss: 0.1221 - accuracy: 0.9563 - val_loss: 0.4861 - val_accuracy: 0.6562\n",
            "Epoch 6/100\n",
            "10/10 [==============================] - 9s 901ms/step - loss: 0.1402 - accuracy: 0.9563 - val_loss: 0.4395 - val_accuracy: 0.8750\n",
            "Epoch 7/100\n",
            "10/10 [==============================] - 9s 899ms/step - loss: 0.1571 - accuracy: 0.9500 - val_loss: 0.4637 - val_accuracy: 0.7500\n",
            "Epoch 8/100\n",
            "10/10 [==============================] - 9s 906ms/step - loss: 0.1200 - accuracy: 0.9438 - val_loss: 0.4472 - val_accuracy: 0.8125\n",
            "Epoch 9/100\n",
            "10/10 [==============================] - 9s 896ms/step - loss: 0.1336 - accuracy: 0.9500 - val_loss: 0.3867 - val_accuracy: 0.8750\n",
            "Epoch 10/100\n",
            "10/10 [==============================] - 9s 899ms/step - loss: 0.0679 - accuracy: 0.9812 - val_loss: 0.3883 - val_accuracy: 0.8750\n",
            "Epoch 11/100\n",
            "10/10 [==============================] - 9s 899ms/step - loss: 0.0721 - accuracy: 0.9750 - val_loss: 0.3551 - val_accuracy: 0.9062\n",
            "Epoch 12/100\n",
            "10/10 [==============================] - 9s 863ms/step - loss: 0.1798 - accuracy: 0.9250 - val_loss: 0.3687 - val_accuracy: 0.9688\n",
            "Epoch 13/100\n",
            "10/10 [==============================] - 9s 886ms/step - loss: 0.1190 - accuracy: 0.9500 - val_loss: 0.3294 - val_accuracy: 0.9375\n",
            "Epoch 14/100\n",
            "10/10 [==============================] - 9s 908ms/step - loss: 0.0738 - accuracy: 0.9812 - val_loss: 0.3105 - val_accuracy: 1.0000\n",
            "Epoch 15/100\n",
            "10/10 [==============================] - 9s 879ms/step - loss: 0.0701 - accuracy: 0.9688 - val_loss: 0.3296 - val_accuracy: 1.0000\n",
            "Epoch 16/100\n",
            "10/10 [==============================] - 9s 884ms/step - loss: 0.0945 - accuracy: 0.9563 - val_loss: 0.2970 - val_accuracy: 0.9375\n",
            "Epoch 17/100\n",
            "10/10 [==============================] - 9s 915ms/step - loss: 0.1319 - accuracy: 0.9438 - val_loss: 0.2740 - val_accuracy: 1.0000\n",
            "Epoch 18/100\n",
            "10/10 [==============================] - 9s 887ms/step - loss: 0.1127 - accuracy: 0.9625 - val_loss: 0.2388 - val_accuracy: 1.0000\n",
            "Epoch 19/100\n",
            "10/10 [==============================] - 9s 923ms/step - loss: 0.1555 - accuracy: 0.9563 - val_loss: 0.2092 - val_accuracy: 1.0000\n",
            "Epoch 20/100\n",
            "10/10 [==============================] - 9s 893ms/step - loss: 0.1277 - accuracy: 0.9438 - val_loss: 0.2490 - val_accuracy: 0.9688\n",
            "Epoch 21/100\n",
            "10/10 [==============================] - 9s 910ms/step - loss: 0.0927 - accuracy: 0.9563 - val_loss: 0.2209 - val_accuracy: 0.9688\n",
            "Epoch 22/100\n",
            "10/10 [==============================] - 9s 903ms/step - loss: 0.1229 - accuracy: 0.9500 - val_loss: 0.1842 - val_accuracy: 1.0000\n",
            "Epoch 23/100\n",
            "10/10 [==============================] - 9s 896ms/step - loss: 0.0771 - accuracy: 0.9750 - val_loss: 0.1636 - val_accuracy: 1.0000\n",
            "Epoch 24/100\n",
            "10/10 [==============================] - 9s 884ms/step - loss: 0.0824 - accuracy: 0.9625 - val_loss: 0.1639 - val_accuracy: 1.0000\n",
            "Epoch 25/100\n",
            "10/10 [==============================] - 9s 890ms/step - loss: 0.0839 - accuracy: 0.9625 - val_loss: 0.1280 - val_accuracy: 1.0000\n",
            "Epoch 26/100\n",
            "10/10 [==============================] - 9s 924ms/step - loss: 0.1218 - accuracy: 0.9563 - val_loss: 0.1309 - val_accuracy: 1.0000\n",
            "Epoch 27/100\n",
            "10/10 [==============================] - 9s 890ms/step - loss: 0.0807 - accuracy: 0.9750 - val_loss: 0.1171 - val_accuracy: 1.0000\n",
            "Epoch 28/100\n",
            "10/10 [==============================] - 9s 897ms/step - loss: 0.0897 - accuracy: 0.9812 - val_loss: 0.1031 - val_accuracy: 1.0000\n",
            "Epoch 29/100\n",
            "10/10 [==============================] - 9s 898ms/step - loss: 0.1482 - accuracy: 0.9438 - val_loss: 0.0832 - val_accuracy: 1.0000\n",
            "Epoch 30/100\n",
            "10/10 [==============================] - 9s 892ms/step - loss: 0.0961 - accuracy: 0.9688 - val_loss: 0.0694 - val_accuracy: 1.0000\n",
            "Epoch 31/100\n",
            "10/10 [==============================] - 9s 901ms/step - loss: 0.0642 - accuracy: 0.9688 - val_loss: 0.0565 - val_accuracy: 1.0000\n",
            "Epoch 32/100\n",
            "10/10 [==============================] - 9s 872ms/step - loss: 0.1189 - accuracy: 0.9438 - val_loss: 0.0379 - val_accuracy: 1.0000\n",
            "Epoch 33/100\n",
            "10/10 [==============================] - 9s 919ms/step - loss: 0.1224 - accuracy: 0.9563 - val_loss: 0.0628 - val_accuracy: 1.0000\n",
            "Epoch 34/100\n",
            "10/10 [==============================] - 9s 893ms/step - loss: 0.0398 - accuracy: 0.9875 - val_loss: 0.0693 - val_accuracy: 0.9688\n",
            "Epoch 35/100\n",
            "10/10 [==============================] - 9s 893ms/step - loss: 0.0663 - accuracy: 0.9750 - val_loss: 0.0617 - val_accuracy: 0.9688\n",
            "Epoch 36/100\n",
            "10/10 [==============================] - 9s 905ms/step - loss: 0.0528 - accuracy: 0.9875 - val_loss: 0.0330 - val_accuracy: 1.0000\n",
            "Epoch 37/100\n",
            "10/10 [==============================] - 9s 906ms/step - loss: 0.1077 - accuracy: 0.9500 - val_loss: 0.0240 - val_accuracy: 1.0000\n",
            "Epoch 38/100\n",
            "10/10 [==============================] - 9s 899ms/step - loss: 0.1216 - accuracy: 0.9438 - val_loss: 0.0503 - val_accuracy: 1.0000\n",
            "Epoch 39/100\n",
            "10/10 [==============================] - 9s 893ms/step - loss: 0.0590 - accuracy: 0.9812 - val_loss: 0.0226 - val_accuracy: 1.0000\n",
            "Epoch 40/100\n",
            "10/10 [==============================] - 9s 883ms/step - loss: 0.0667 - accuracy: 0.9688 - val_loss: 0.0283 - val_accuracy: 1.0000\n",
            "Epoch 41/100\n",
            "10/10 [==============================] - 9s 903ms/step - loss: 0.1700 - accuracy: 0.9250 - val_loss: 0.0319 - val_accuracy: 1.0000\n",
            "Epoch 42/100\n",
            "10/10 [==============================] - 9s 907ms/step - loss: 0.0570 - accuracy: 0.9812 - val_loss: 0.0513 - val_accuracy: 0.9688\n",
            "Epoch 43/100\n",
            "10/10 [==============================] - 9s 886ms/step - loss: 0.0860 - accuracy: 0.9688 - val_loss: 0.0342 - val_accuracy: 0.9688\n",
            "Epoch 44/100\n",
            "10/10 [==============================] - 9s 910ms/step - loss: 0.0891 - accuracy: 0.9563 - val_loss: 0.0313 - val_accuracy: 0.9688\n",
            "Epoch 45/100\n",
            "10/10 [==============================] - 9s 884ms/step - loss: 0.0990 - accuracy: 0.9625 - val_loss: 0.0502 - val_accuracy: 0.9688\n",
            "Epoch 46/100\n",
            "10/10 [==============================] - 9s 895ms/step - loss: 0.1638 - accuracy: 0.9500 - val_loss: 0.0074 - val_accuracy: 1.0000\n",
            "Epoch 47/100\n",
            "10/10 [==============================] - 9s 921ms/step - loss: 0.0900 - accuracy: 0.9563 - val_loss: 0.0218 - val_accuracy: 1.0000\n",
            "Epoch 48/100\n",
            "10/10 [==============================] - 9s 877ms/step - loss: 0.0973 - accuracy: 0.9812 - val_loss: 0.0394 - val_accuracy: 0.9688\n",
            "Epoch 49/100\n",
            "10/10 [==============================] - 9s 869ms/step - loss: 0.0767 - accuracy: 0.9688 - val_loss: 0.0206 - val_accuracy: 1.0000\n",
            "Epoch 50/100\n",
            "10/10 [==============================] - 9s 905ms/step - loss: 0.1309 - accuracy: 0.9500 - val_loss: 0.0320 - val_accuracy: 1.0000\n",
            "Epoch 51/100\n",
            "10/10 [==============================] - 9s 917ms/step - loss: 0.1696 - accuracy: 0.9438 - val_loss: 0.0208 - val_accuracy: 1.0000\n",
            "Epoch 52/100\n",
            "10/10 [==============================] - 9s 873ms/step - loss: 0.0954 - accuracy: 0.9750 - val_loss: 0.0276 - val_accuracy: 1.0000\n",
            "Epoch 53/100\n",
            "10/10 [==============================] - 9s 857ms/step - loss: 0.1110 - accuracy: 0.9563 - val_loss: 0.0274 - val_accuracy: 0.9688\n",
            "Epoch 54/100\n",
            "10/10 [==============================] - 9s 907ms/step - loss: 0.0885 - accuracy: 0.9750 - val_loss: 0.0046 - val_accuracy: 1.0000\n",
            "Epoch 55/100\n",
            "10/10 [==============================] - 9s 900ms/step - loss: 0.1176 - accuracy: 0.9438 - val_loss: 0.0215 - val_accuracy: 1.0000\n",
            "Epoch 56/100\n",
            "10/10 [==============================] - 9s 909ms/step - loss: 0.0688 - accuracy: 0.9750 - val_loss: 0.0037 - val_accuracy: 1.0000\n",
            "Epoch 57/100\n",
            "10/10 [==============================] - 9s 898ms/step - loss: 0.0893 - accuracy: 0.9688 - val_loss: 0.0181 - val_accuracy: 1.0000\n",
            "Epoch 58/100\n",
            "10/10 [==============================] - 9s 908ms/step - loss: 0.0809 - accuracy: 0.9812 - val_loss: 0.0235 - val_accuracy: 1.0000\n",
            "Epoch 59/100\n",
            "10/10 [==============================] - 9s 919ms/step - loss: 0.0673 - accuracy: 0.9750 - val_loss: 0.0316 - val_accuracy: 0.9688\n",
            "Epoch 60/100\n",
            "10/10 [==============================] - 9s 904ms/step - loss: 0.1220 - accuracy: 0.9563 - val_loss: 0.0232 - val_accuracy: 1.0000\n",
            "Epoch 61/100\n",
            "10/10 [==============================] - 9s 893ms/step - loss: 0.0703 - accuracy: 0.9688 - val_loss: 0.0041 - val_accuracy: 1.0000\n",
            "Epoch 62/100\n",
            "10/10 [==============================] - 9s 897ms/step - loss: 0.0809 - accuracy: 0.9750 - val_loss: 0.0605 - val_accuracy: 0.9688\n",
            "Epoch 63/100\n",
            "10/10 [==============================] - 9s 903ms/step - loss: 0.0568 - accuracy: 0.9750 - val_loss: 0.0323 - val_accuracy: 0.9688\n",
            "Epoch 64/100\n",
            "10/10 [==============================] - 9s 911ms/step - loss: 0.0836 - accuracy: 0.9750 - val_loss: 0.0258 - val_accuracy: 1.0000\n",
            "Epoch 65/100\n",
            "10/10 [==============================] - 9s 884ms/step - loss: 0.0595 - accuracy: 0.9688 - val_loss: 0.0050 - val_accuracy: 1.0000\n",
            "Epoch 66/100\n",
            "10/10 [==============================] - 9s 895ms/step - loss: 0.0979 - accuracy: 0.9500 - val_loss: 0.0403 - val_accuracy: 0.9688\n",
            "Epoch 67/100\n",
            "10/10 [==============================] - 9s 879ms/step - loss: 0.1091 - accuracy: 0.9500 - val_loss: 0.0022 - val_accuracy: 1.0000\n",
            "Epoch 68/100\n",
            "10/10 [==============================] - 9s 892ms/step - loss: 0.0957 - accuracy: 0.9625 - val_loss: 0.0305 - val_accuracy: 0.9688\n",
            "Epoch 69/100\n",
            "10/10 [==============================] - 9s 886ms/step - loss: 0.0496 - accuracy: 0.9812 - val_loss: 0.0259 - val_accuracy: 0.9688\n",
            "Epoch 70/100\n",
            "10/10 [==============================] - 9s 879ms/step - loss: 0.0486 - accuracy: 0.9812 - val_loss: 0.0422 - val_accuracy: 0.9688\n",
            "Epoch 71/100\n",
            "10/10 [==============================] - 9s 891ms/step - loss: 0.1078 - accuracy: 0.9625 - val_loss: 0.0134 - val_accuracy: 1.0000\n",
            "Epoch 72/100\n",
            "10/10 [==============================] - 9s 913ms/step - loss: 0.0425 - accuracy: 0.9875 - val_loss: 0.0297 - val_accuracy: 0.9688\n",
            "Epoch 73/100\n",
            "10/10 [==============================] - 9s 890ms/step - loss: 0.1368 - accuracy: 0.9438 - val_loss: 0.0117 - val_accuracy: 1.0000\n",
            "Epoch 74/100\n",
            "10/10 [==============================] - 9s 889ms/step - loss: 0.0742 - accuracy: 0.9750 - val_loss: 0.0019 - val_accuracy: 1.0000\n",
            "Epoch 75/100\n",
            "10/10 [==============================] - 9s 896ms/step - loss: 0.1112 - accuracy: 0.9500 - val_loss: 0.0314 - val_accuracy: 0.9688\n",
            "Epoch 76/100\n",
            "10/10 [==============================] - 9s 920ms/step - loss: 0.1021 - accuracy: 0.9563 - val_loss: 0.0244 - val_accuracy: 1.0000\n",
            "Epoch 77/100\n",
            "10/10 [==============================] - 9s 886ms/step - loss: 0.0460 - accuracy: 0.9875 - val_loss: 0.0259 - val_accuracy: 0.9688\n",
            "Epoch 78/100\n",
            "10/10 [==============================] - 9s 898ms/step - loss: 0.1631 - accuracy: 0.9375 - val_loss: 0.0032 - val_accuracy: 1.0000\n",
            "Epoch 79/100\n",
            "10/10 [==============================] - 9s 890ms/step - loss: 0.0781 - accuracy: 0.9750 - val_loss: 0.0016 - val_accuracy: 1.0000\n",
            "Epoch 80/100\n",
            "10/10 [==============================] - 9s 890ms/step - loss: 0.0568 - accuracy: 0.9750 - val_loss: 0.0285 - val_accuracy: 0.9688\n",
            "Epoch 81/100\n",
            "10/10 [==============================] - 9s 897ms/step - loss: 0.1300 - accuracy: 0.9312 - val_loss: 0.0017 - val_accuracy: 1.0000\n",
            "Epoch 82/100\n",
            "10/10 [==============================] - 9s 920ms/step - loss: 0.0459 - accuracy: 0.9875 - val_loss: 0.0161 - val_accuracy: 1.0000\n",
            "Epoch 83/100\n",
            "10/10 [==============================] - 9s 909ms/step - loss: 0.0689 - accuracy: 0.9750 - val_loss: 0.0203 - val_accuracy: 1.0000\n",
            "Epoch 84/100\n",
            "10/10 [==============================] - 9s 894ms/step - loss: 0.0345 - accuracy: 0.9875 - val_loss: 0.0280 - val_accuracy: 0.9688\n",
            "Epoch 85/100\n",
            "10/10 [==============================] - 9s 873ms/step - loss: 0.0923 - accuracy: 0.9688 - val_loss: 0.0331 - val_accuracy: 0.9688\n",
            "Epoch 86/100\n",
            "10/10 [==============================] - 9s 880ms/step - loss: 0.0651 - accuracy: 0.9688 - val_loss: 0.0078 - val_accuracy: 1.0000\n",
            "Epoch 87/100\n",
            "10/10 [==============================] - 9s 887ms/step - loss: 0.1521 - accuracy: 0.9625 - val_loss: 0.0243 - val_accuracy: 0.9688\n",
            "Epoch 88/100\n",
            "10/10 [==============================] - 9s 870ms/step - loss: 0.1089 - accuracy: 0.9438 - val_loss: 0.0186 - val_accuracy: 1.0000\n",
            "Epoch 89/100\n",
            "10/10 [==============================] - 9s 886ms/step - loss: 0.1285 - accuracy: 0.9625 - val_loss: 0.0046 - val_accuracy: 1.0000\n",
            "Epoch 90/100\n",
            "10/10 [==============================] - 9s 893ms/step - loss: 0.0574 - accuracy: 0.9750 - val_loss: 0.0069 - val_accuracy: 1.0000\n",
            "Epoch 91/100\n",
            "10/10 [==============================] - 9s 876ms/step - loss: 0.1198 - accuracy: 0.9625 - val_loss: 0.0349 - val_accuracy: 0.9688\n",
            "Epoch 92/100\n",
            "10/10 [==============================] - 9s 880ms/step - loss: 0.0315 - accuracy: 0.9937 - val_loss: 0.0046 - val_accuracy: 1.0000\n",
            "Epoch 93/100\n",
            "10/10 [==============================] - 9s 917ms/step - loss: 0.0472 - accuracy: 0.9875 - val_loss: 0.0084 - val_accuracy: 1.0000\n",
            "Epoch 94/100\n",
            "10/10 [==============================] - 9s 910ms/step - loss: 0.0720 - accuracy: 0.9750 - val_loss: 0.0090 - val_accuracy: 1.0000\n",
            "Epoch 95/100\n",
            "10/10 [==============================] - 9s 895ms/step - loss: 0.0719 - accuracy: 0.9812 - val_loss: 0.0023 - val_accuracy: 1.0000\n",
            "Epoch 96/100\n",
            "10/10 [==============================] - 9s 888ms/step - loss: 0.1424 - accuracy: 0.9250 - val_loss: 0.0187 - val_accuracy: 1.0000\n",
            "Epoch 97/100\n",
            "10/10 [==============================] - 9s 897ms/step - loss: 0.1047 - accuracy: 0.9625 - val_loss: 0.0144 - val_accuracy: 1.0000\n",
            "Epoch 98/100\n",
            "10/10 [==============================] - 9s 879ms/step - loss: 0.0558 - accuracy: 0.9812 - val_loss: 0.0551 - val_accuracy: 0.9688\n",
            "Epoch 99/100\n",
            "10/10 [==============================] - 9s 906ms/step - loss: 0.0831 - accuracy: 0.9625 - val_loss: 0.0285 - val_accuracy: 0.9688\n",
            "Epoch 100/100\n",
            "10/10 [==============================] - 9s 913ms/step - loss: 0.0891 - accuracy: 0.9812 - val_loss: 0.0298 - val_accuracy: 0.9688\n"
          ],
          "name": "stdout"
        }
      ]
    },
    {
      "cell_type": "code",
      "metadata": {
        "id": "gvYQSrvy_SBg",
        "colab": {
          "base_uri": "https://localhost:8080/",
          "height": 590
        },
        "outputId": "9aca2755-2b60-4160-8d6b-93a4040f0a39"
      },
      "source": [
        "print(history.history.keys())\n",
        "# summarize history for accuracy\n",
        "plt.plot(history.history['accuracy'])\n",
        "plt.plot(history.history['val_accuracy'])\n",
        "plt.title('model accuracy')\n",
        "plt.ylabel('accuracy')\n",
        "plt.xlabel('epoch')\n",
        "plt.legend(['train', 'test'], loc='upper left')\n",
        "plt.ylim([0.50, 1.00])\n",
        "plt.show()\n",
        "# summarize history for loss\n",
        "plt.plot(history.history['loss'])\n",
        "plt.plot(history.history['val_loss'])\n",
        "plt.title('model loss')\n",
        "plt.ylabel('loss')\n",
        "plt.xlabel('epoch')\n",
        "plt.legend(['train', 'test'], loc='upper left')\n",
        "plt.ylim([0.00,0.35])\n",
        "plt.show()"
      ],
      "execution_count": 74,
      "outputs": [
        {
          "output_type": "stream",
          "text": [
            "dict_keys(['loss', 'accuracy', 'val_loss', 'val_accuracy'])\n"
          ],
          "name": "stdout"
        },
        {
          "output_type": "display_data",
          "data": {
            "image/png": "[encoded data removed]",
            "text/plain": [
              "<Figure size 432x288 with 1 Axes>"
            ]
          },
          "metadata": {
            "tags": [],
            "needs_background": "light"
          }
        },
        {
          "output_type": "display_data",
          "data": {
            "image/png": "[encoded data removed]",
            "text/plain": [
              "<Figure size 432x288 with 1 Axes>"
            ]
          },
          "metadata": {
            "tags": [],
            "needs_background": "light"
          }
        }
      ]
    },
    {
      "cell_type": "code",
      "metadata": {
        "id": "xdG-1I-RCBrN"
      },
      "source": [
        ""
      ],
      "execution_count": null,
      "outputs": []
    }
  ]
}